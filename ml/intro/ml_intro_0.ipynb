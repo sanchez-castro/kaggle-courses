{
 "cells": [
  {
   "cell_type": "markdown",
   "metadata": {},
   "source": [
    "### Data exploration"
   ]
  },
  {
   "cell_type": "code",
   "execution_count": 2,
   "metadata": {},
   "outputs": [],
   "source": [
    "import pandas as pd\n",
    "pd.set_option('display.float_format', lambda x: '%.3f' % x)"
   ]
  },
  {
   "cell_type": "code",
   "execution_count": 3,
   "metadata": {},
   "outputs": [
    {
     "name": "stdout",
     "output_type": "stream",
     "text": [
      "cross-validation.ipynb  ml_intro_0.ipynb        ml_missing_values.ipynb\r\n",
      "melb_data.csv           ml_intro_1.ipynb        xgboost.ipynb\r\n",
      "ml_cat_variables.ipynb  ml_intro_2.ipynb\r\n"
     ]
    }
   ],
   "source": [
    "!ls"
   ]
  },
  {
   "cell_type": "code",
   "execution_count": 4,
   "metadata": {},
   "outputs": [],
   "source": [
    "melbourne_file_path = 'melb_data.csv'"
   ]
  },
  {
   "cell_type": "code",
   "execution_count": 5,
   "metadata": {},
   "outputs": [
    {
     "data": {
      "text/plain": [
       "(13580, 21)"
      ]
     },
     "execution_count": 5,
     "metadata": {},
     "output_type": "execute_result"
    }
   ],
   "source": [
    "melbourne_data = pd.read_csv(melbourne_file_path)\n",
    "melbourne_data.shape"
   ]
  },
  {
   "cell_type": "code",
   "execution_count": 6,
   "metadata": {},
   "outputs": [
    {
     "data": {
      "text/html": [
       "<div>\n",
       "<style scoped>\n",
       "    .dataframe tbody tr th:only-of-type {\n",
       "        vertical-align: middle;\n",
       "    }\n",
       "\n",
       "    .dataframe tbody tr th {\n",
       "        vertical-align: top;\n",
       "    }\n",
       "\n",
       "    .dataframe thead th {\n",
       "        text-align: right;\n",
       "    }\n",
       "</style>\n",
       "<table border=\"1\" class=\"dataframe\">\n",
       "  <thead>\n",
       "    <tr style=\"text-align: right;\">\n",
       "      <th></th>\n",
       "      <th>Rooms</th>\n",
       "      <th>Price</th>\n",
       "      <th>Distance</th>\n",
       "      <th>Postcode</th>\n",
       "      <th>Bedroom2</th>\n",
       "      <th>Bathroom</th>\n",
       "      <th>Car</th>\n",
       "      <th>Landsize</th>\n",
       "      <th>BuildingArea</th>\n",
       "      <th>YearBuilt</th>\n",
       "      <th>Lattitude</th>\n",
       "      <th>Longtitude</th>\n",
       "      <th>Propertycount</th>\n",
       "    </tr>\n",
       "  </thead>\n",
       "  <tbody>\n",
       "    <tr>\n",
       "      <th>count</th>\n",
       "      <td>13580.000</td>\n",
       "      <td>13580.000</td>\n",
       "      <td>13580.000</td>\n",
       "      <td>13580.000</td>\n",
       "      <td>13580.000</td>\n",
       "      <td>13580.000</td>\n",
       "      <td>13518.000</td>\n",
       "      <td>13580.000</td>\n",
       "      <td>7130.000</td>\n",
       "      <td>8205.000</td>\n",
       "      <td>13580.000</td>\n",
       "      <td>13580.000</td>\n",
       "      <td>13580.000</td>\n",
       "    </tr>\n",
       "    <tr>\n",
       "      <th>mean</th>\n",
       "      <td>2.938</td>\n",
       "      <td>1075684.079</td>\n",
       "      <td>10.138</td>\n",
       "      <td>3105.302</td>\n",
       "      <td>2.915</td>\n",
       "      <td>1.534</td>\n",
       "      <td>1.610</td>\n",
       "      <td>558.416</td>\n",
       "      <td>151.968</td>\n",
       "      <td>1964.684</td>\n",
       "      <td>-37.809</td>\n",
       "      <td>144.995</td>\n",
       "      <td>7454.417</td>\n",
       "    </tr>\n",
       "    <tr>\n",
       "      <th>std</th>\n",
       "      <td>0.956</td>\n",
       "      <td>639310.724</td>\n",
       "      <td>5.869</td>\n",
       "      <td>90.677</td>\n",
       "      <td>0.966</td>\n",
       "      <td>0.692</td>\n",
       "      <td>0.963</td>\n",
       "      <td>3990.669</td>\n",
       "      <td>541.015</td>\n",
       "      <td>37.274</td>\n",
       "      <td>0.079</td>\n",
       "      <td>0.104</td>\n",
       "      <td>4378.582</td>\n",
       "    </tr>\n",
       "    <tr>\n",
       "      <th>min</th>\n",
       "      <td>1.000</td>\n",
       "      <td>85000.000</td>\n",
       "      <td>0.000</td>\n",
       "      <td>3000.000</td>\n",
       "      <td>0.000</td>\n",
       "      <td>0.000</td>\n",
       "      <td>0.000</td>\n",
       "      <td>0.000</td>\n",
       "      <td>0.000</td>\n",
       "      <td>1196.000</td>\n",
       "      <td>-38.183</td>\n",
       "      <td>144.432</td>\n",
       "      <td>249.000</td>\n",
       "    </tr>\n",
       "    <tr>\n",
       "      <th>25%</th>\n",
       "      <td>2.000</td>\n",
       "      <td>650000.000</td>\n",
       "      <td>6.100</td>\n",
       "      <td>3044.000</td>\n",
       "      <td>2.000</td>\n",
       "      <td>1.000</td>\n",
       "      <td>1.000</td>\n",
       "      <td>177.000</td>\n",
       "      <td>93.000</td>\n",
       "      <td>1940.000</td>\n",
       "      <td>-37.857</td>\n",
       "      <td>144.930</td>\n",
       "      <td>4380.000</td>\n",
       "    </tr>\n",
       "    <tr>\n",
       "      <th>50%</th>\n",
       "      <td>3.000</td>\n",
       "      <td>903000.000</td>\n",
       "      <td>9.200</td>\n",
       "      <td>3084.000</td>\n",
       "      <td>3.000</td>\n",
       "      <td>1.000</td>\n",
       "      <td>2.000</td>\n",
       "      <td>440.000</td>\n",
       "      <td>126.000</td>\n",
       "      <td>1970.000</td>\n",
       "      <td>-37.802</td>\n",
       "      <td>145.000</td>\n",
       "      <td>6555.000</td>\n",
       "    </tr>\n",
       "    <tr>\n",
       "      <th>75%</th>\n",
       "      <td>3.000</td>\n",
       "      <td>1330000.000</td>\n",
       "      <td>13.000</td>\n",
       "      <td>3148.000</td>\n",
       "      <td>3.000</td>\n",
       "      <td>2.000</td>\n",
       "      <td>2.000</td>\n",
       "      <td>651.000</td>\n",
       "      <td>174.000</td>\n",
       "      <td>1999.000</td>\n",
       "      <td>-37.756</td>\n",
       "      <td>145.058</td>\n",
       "      <td>10331.000</td>\n",
       "    </tr>\n",
       "    <tr>\n",
       "      <th>max</th>\n",
       "      <td>10.000</td>\n",
       "      <td>9000000.000</td>\n",
       "      <td>48.100</td>\n",
       "      <td>3977.000</td>\n",
       "      <td>20.000</td>\n",
       "      <td>8.000</td>\n",
       "      <td>10.000</td>\n",
       "      <td>433014.000</td>\n",
       "      <td>44515.000</td>\n",
       "      <td>2018.000</td>\n",
       "      <td>-37.409</td>\n",
       "      <td>145.526</td>\n",
       "      <td>21650.000</td>\n",
       "    </tr>\n",
       "  </tbody>\n",
       "</table>\n",
       "</div>"
      ],
      "text/plain": [
       "          Rooms       Price  Distance  Postcode  Bedroom2  Bathroom       Car  \\\n",
       "count 13580.000   13580.000 13580.000 13580.000 13580.000 13580.000 13518.000   \n",
       "mean      2.938 1075684.079    10.138  3105.302     2.915     1.534     1.610   \n",
       "std       0.956  639310.724     5.869    90.677     0.966     0.692     0.963   \n",
       "min       1.000   85000.000     0.000  3000.000     0.000     0.000     0.000   \n",
       "25%       2.000  650000.000     6.100  3044.000     2.000     1.000     1.000   \n",
       "50%       3.000  903000.000     9.200  3084.000     3.000     1.000     2.000   \n",
       "75%       3.000 1330000.000    13.000  3148.000     3.000     2.000     2.000   \n",
       "max      10.000 9000000.000    48.100  3977.000    20.000     8.000    10.000   \n",
       "\n",
       "        Landsize  BuildingArea  YearBuilt  Lattitude  Longtitude  \\\n",
       "count  13580.000      7130.000   8205.000  13580.000   13580.000   \n",
       "mean     558.416       151.968   1964.684    -37.809     144.995   \n",
       "std     3990.669       541.015     37.274      0.079       0.104   \n",
       "min        0.000         0.000   1196.000    -38.183     144.432   \n",
       "25%      177.000        93.000   1940.000    -37.857     144.930   \n",
       "50%      440.000       126.000   1970.000    -37.802     145.000   \n",
       "75%      651.000       174.000   1999.000    -37.756     145.058   \n",
       "max   433014.000     44515.000   2018.000    -37.409     145.526   \n",
       "\n",
       "       Propertycount  \n",
       "count      13580.000  \n",
       "mean        7454.417  \n",
       "std         4378.582  \n",
       "min          249.000  \n",
       "25%         4380.000  \n",
       "50%         6555.000  \n",
       "75%        10331.000  \n",
       "max        21650.000  "
      ]
     },
     "execution_count": 6,
     "metadata": {},
     "output_type": "execute_result"
    }
   ],
   "source": [
    "melbourne_data.describe()"
   ]
  },
  {
   "cell_type": "code",
   "execution_count": 7,
   "metadata": {},
   "outputs": [
    {
     "data": {
      "text/plain": [
       "Index(['Suburb', 'Address', 'Rooms', 'Type', 'Price', 'Method', 'SellerG',\n",
       "       'Date', 'Distance', 'Postcode', 'Bedroom2', 'Bathroom', 'Car',\n",
       "       'Landsize', 'BuildingArea', 'YearBuilt', 'CouncilArea', 'Lattitude',\n",
       "       'Longtitude', 'Regionname', 'Propertycount'],\n",
       "      dtype='object')"
      ]
     },
     "execution_count": 7,
     "metadata": {},
     "output_type": "execute_result"
    }
   ],
   "source": [
    "melbourne_data.columns"
   ]
  },
  {
   "cell_type": "code",
   "execution_count": 8,
   "metadata": {},
   "outputs": [
    {
     "data": {
      "text/html": [
       "<div>\n",
       "<style scoped>\n",
       "    .dataframe tbody tr th:only-of-type {\n",
       "        vertical-align: middle;\n",
       "    }\n",
       "\n",
       "    .dataframe tbody tr th {\n",
       "        vertical-align: top;\n",
       "    }\n",
       "\n",
       "    .dataframe thead th {\n",
       "        text-align: right;\n",
       "    }\n",
       "</style>\n",
       "<table border=\"1\" class=\"dataframe\">\n",
       "  <thead>\n",
       "    <tr style=\"text-align: right;\">\n",
       "      <th></th>\n",
       "      <th>Suburb</th>\n",
       "      <th>Address</th>\n",
       "      <th>Rooms</th>\n",
       "      <th>Type</th>\n",
       "      <th>Price</th>\n",
       "      <th>Method</th>\n",
       "      <th>SellerG</th>\n",
       "      <th>Date</th>\n",
       "      <th>Distance</th>\n",
       "      <th>Postcode</th>\n",
       "      <th>...</th>\n",
       "      <th>Bathroom</th>\n",
       "      <th>Car</th>\n",
       "      <th>Landsize</th>\n",
       "      <th>BuildingArea</th>\n",
       "      <th>YearBuilt</th>\n",
       "      <th>CouncilArea</th>\n",
       "      <th>Lattitude</th>\n",
       "      <th>Longtitude</th>\n",
       "      <th>Regionname</th>\n",
       "      <th>Propertycount</th>\n",
       "    </tr>\n",
       "  </thead>\n",
       "  <tbody>\n",
       "    <tr>\n",
       "      <th>0</th>\n",
       "      <td>Abbotsford</td>\n",
       "      <td>85 Turner St</td>\n",
       "      <td>2</td>\n",
       "      <td>h</td>\n",
       "      <td>1480000.000</td>\n",
       "      <td>S</td>\n",
       "      <td>Biggin</td>\n",
       "      <td>3/12/2016</td>\n",
       "      <td>2.500</td>\n",
       "      <td>3067.000</td>\n",
       "      <td>...</td>\n",
       "      <td>1.000</td>\n",
       "      <td>1.000</td>\n",
       "      <td>202.000</td>\n",
       "      <td>nan</td>\n",
       "      <td>nan</td>\n",
       "      <td>Yarra</td>\n",
       "      <td>-37.800</td>\n",
       "      <td>144.998</td>\n",
       "      <td>Northern Metropolitan</td>\n",
       "      <td>4019.000</td>\n",
       "    </tr>\n",
       "    <tr>\n",
       "      <th>1</th>\n",
       "      <td>Abbotsford</td>\n",
       "      <td>25 Bloomburg St</td>\n",
       "      <td>2</td>\n",
       "      <td>h</td>\n",
       "      <td>1035000.000</td>\n",
       "      <td>S</td>\n",
       "      <td>Biggin</td>\n",
       "      <td>4/02/2016</td>\n",
       "      <td>2.500</td>\n",
       "      <td>3067.000</td>\n",
       "      <td>...</td>\n",
       "      <td>1.000</td>\n",
       "      <td>0.000</td>\n",
       "      <td>156.000</td>\n",
       "      <td>79.000</td>\n",
       "      <td>1900.000</td>\n",
       "      <td>Yarra</td>\n",
       "      <td>-37.808</td>\n",
       "      <td>144.993</td>\n",
       "      <td>Northern Metropolitan</td>\n",
       "      <td>4019.000</td>\n",
       "    </tr>\n",
       "    <tr>\n",
       "      <th>2</th>\n",
       "      <td>Abbotsford</td>\n",
       "      <td>5 Charles St</td>\n",
       "      <td>3</td>\n",
       "      <td>h</td>\n",
       "      <td>1465000.000</td>\n",
       "      <td>SP</td>\n",
       "      <td>Biggin</td>\n",
       "      <td>4/03/2017</td>\n",
       "      <td>2.500</td>\n",
       "      <td>3067.000</td>\n",
       "      <td>...</td>\n",
       "      <td>2.000</td>\n",
       "      <td>0.000</td>\n",
       "      <td>134.000</td>\n",
       "      <td>150.000</td>\n",
       "      <td>1900.000</td>\n",
       "      <td>Yarra</td>\n",
       "      <td>-37.809</td>\n",
       "      <td>144.994</td>\n",
       "      <td>Northern Metropolitan</td>\n",
       "      <td>4019.000</td>\n",
       "    </tr>\n",
       "    <tr>\n",
       "      <th>3</th>\n",
       "      <td>Abbotsford</td>\n",
       "      <td>40 Federation La</td>\n",
       "      <td>3</td>\n",
       "      <td>h</td>\n",
       "      <td>850000.000</td>\n",
       "      <td>PI</td>\n",
       "      <td>Biggin</td>\n",
       "      <td>4/03/2017</td>\n",
       "      <td>2.500</td>\n",
       "      <td>3067.000</td>\n",
       "      <td>...</td>\n",
       "      <td>2.000</td>\n",
       "      <td>1.000</td>\n",
       "      <td>94.000</td>\n",
       "      <td>nan</td>\n",
       "      <td>nan</td>\n",
       "      <td>Yarra</td>\n",
       "      <td>-37.797</td>\n",
       "      <td>144.997</td>\n",
       "      <td>Northern Metropolitan</td>\n",
       "      <td>4019.000</td>\n",
       "    </tr>\n",
       "    <tr>\n",
       "      <th>4</th>\n",
       "      <td>Abbotsford</td>\n",
       "      <td>55a Park St</td>\n",
       "      <td>4</td>\n",
       "      <td>h</td>\n",
       "      <td>1600000.000</td>\n",
       "      <td>VB</td>\n",
       "      <td>Nelson</td>\n",
       "      <td>4/06/2016</td>\n",
       "      <td>2.500</td>\n",
       "      <td>3067.000</td>\n",
       "      <td>...</td>\n",
       "      <td>1.000</td>\n",
       "      <td>2.000</td>\n",
       "      <td>120.000</td>\n",
       "      <td>142.000</td>\n",
       "      <td>2014.000</td>\n",
       "      <td>Yarra</td>\n",
       "      <td>-37.807</td>\n",
       "      <td>144.994</td>\n",
       "      <td>Northern Metropolitan</td>\n",
       "      <td>4019.000</td>\n",
       "    </tr>\n",
       "  </tbody>\n",
       "</table>\n",
       "<p>5 rows × 21 columns</p>\n",
       "</div>"
      ],
      "text/plain": [
       "       Suburb           Address  Rooms Type       Price Method SellerG  \\\n",
       "0  Abbotsford      85 Turner St      2    h 1480000.000      S  Biggin   \n",
       "1  Abbotsford   25 Bloomburg St      2    h 1035000.000      S  Biggin   \n",
       "2  Abbotsford      5 Charles St      3    h 1465000.000     SP  Biggin   \n",
       "3  Abbotsford  40 Federation La      3    h  850000.000     PI  Biggin   \n",
       "4  Abbotsford       55a Park St      4    h 1600000.000     VB  Nelson   \n",
       "\n",
       "        Date  Distance  Postcode  ...  Bathroom   Car  Landsize  BuildingArea  \\\n",
       "0  3/12/2016     2.500  3067.000  ...     1.000 1.000   202.000           nan   \n",
       "1  4/02/2016     2.500  3067.000  ...     1.000 0.000   156.000        79.000   \n",
       "2  4/03/2017     2.500  3067.000  ...     2.000 0.000   134.000       150.000   \n",
       "3  4/03/2017     2.500  3067.000  ...     2.000 1.000    94.000           nan   \n",
       "4  4/06/2016     2.500  3067.000  ...     1.000 2.000   120.000       142.000   \n",
       "\n",
       "   YearBuilt  CouncilArea Lattitude  Longtitude             Regionname  \\\n",
       "0        nan        Yarra   -37.800     144.998  Northern Metropolitan   \n",
       "1   1900.000        Yarra   -37.808     144.993  Northern Metropolitan   \n",
       "2   1900.000        Yarra   -37.809     144.994  Northern Metropolitan   \n",
       "3        nan        Yarra   -37.797     144.997  Northern Metropolitan   \n",
       "4   2014.000        Yarra   -37.807     144.994  Northern Metropolitan   \n",
       "\n",
       "  Propertycount  \n",
       "0      4019.000  \n",
       "1      4019.000  \n",
       "2      4019.000  \n",
       "3      4019.000  \n",
       "4      4019.000  \n",
       "\n",
       "[5 rows x 21 columns]"
      ]
     },
     "execution_count": 8,
     "metadata": {},
     "output_type": "execute_result"
    }
   ],
   "source": [
    "melbourne_data.head()"
   ]
  },
  {
   "cell_type": "markdown",
   "metadata": {},
   "source": [
    "### Data Prep"
   ]
  },
  {
   "cell_type": "code",
   "execution_count": 9,
   "metadata": {},
   "outputs": [],
   "source": [
    "#dropping nulls\n",
    "melbourne_data = melbourne_data.dropna(axis=0)"
   ]
  },
  {
   "cell_type": "code",
   "execution_count": 10,
   "metadata": {},
   "outputs": [
    {
     "data": {
      "text/plain": [
       "count      6196.000\n",
       "mean    1068828.202\n",
       "std      675156.428\n",
       "min      131000.000\n",
       "25%      620000.000\n",
       "50%      880000.000\n",
       "75%     1325000.000\n",
       "max     9000000.000\n",
       "Name: Price, dtype: float64"
      ]
     },
     "execution_count": 10,
     "metadata": {},
     "output_type": "execute_result"
    }
   ],
   "source": [
    "#Selecting Y variable\n",
    "y = melbourne_data.Price\n",
    "y.describe()"
   ]
  },
  {
   "cell_type": "code",
   "execution_count": 11,
   "metadata": {},
   "outputs": [
    {
     "data": {
      "text/html": [
       "<div>\n",
       "<style scoped>\n",
       "    .dataframe tbody tr th:only-of-type {\n",
       "        vertical-align: middle;\n",
       "    }\n",
       "\n",
       "    .dataframe tbody tr th {\n",
       "        vertical-align: top;\n",
       "    }\n",
       "\n",
       "    .dataframe thead th {\n",
       "        text-align: right;\n",
       "    }\n",
       "</style>\n",
       "<table border=\"1\" class=\"dataframe\">\n",
       "  <thead>\n",
       "    <tr style=\"text-align: right;\">\n",
       "      <th></th>\n",
       "      <th>Rooms</th>\n",
       "      <th>Bathroom</th>\n",
       "      <th>Landsize</th>\n",
       "      <th>Lattitude</th>\n",
       "      <th>Longtitude</th>\n",
       "    </tr>\n",
       "  </thead>\n",
       "  <tbody>\n",
       "    <tr>\n",
       "      <th>count</th>\n",
       "      <td>6196.000</td>\n",
       "      <td>6196.000</td>\n",
       "      <td>6196.000</td>\n",
       "      <td>6196.000</td>\n",
       "      <td>6196.000</td>\n",
       "    </tr>\n",
       "    <tr>\n",
       "      <th>mean</th>\n",
       "      <td>2.931</td>\n",
       "      <td>1.576</td>\n",
       "      <td>471.007</td>\n",
       "      <td>-37.808</td>\n",
       "      <td>144.990</td>\n",
       "    </tr>\n",
       "    <tr>\n",
       "      <th>std</th>\n",
       "      <td>0.971</td>\n",
       "      <td>0.711</td>\n",
       "      <td>897.450</td>\n",
       "      <td>0.076</td>\n",
       "      <td>0.099</td>\n",
       "    </tr>\n",
       "    <tr>\n",
       "      <th>min</th>\n",
       "      <td>1.000</td>\n",
       "      <td>1.000</td>\n",
       "      <td>0.000</td>\n",
       "      <td>-38.165</td>\n",
       "      <td>144.542</td>\n",
       "    </tr>\n",
       "    <tr>\n",
       "      <th>25%</th>\n",
       "      <td>2.000</td>\n",
       "      <td>1.000</td>\n",
       "      <td>152.000</td>\n",
       "      <td>-37.855</td>\n",
       "      <td>144.926</td>\n",
       "    </tr>\n",
       "    <tr>\n",
       "      <th>50%</th>\n",
       "      <td>3.000</td>\n",
       "      <td>1.000</td>\n",
       "      <td>373.000</td>\n",
       "      <td>-37.802</td>\n",
       "      <td>144.996</td>\n",
       "    </tr>\n",
       "    <tr>\n",
       "      <th>75%</th>\n",
       "      <td>4.000</td>\n",
       "      <td>2.000</td>\n",
       "      <td>628.000</td>\n",
       "      <td>-37.758</td>\n",
       "      <td>145.053</td>\n",
       "    </tr>\n",
       "    <tr>\n",
       "      <th>max</th>\n",
       "      <td>8.000</td>\n",
       "      <td>8.000</td>\n",
       "      <td>37000.000</td>\n",
       "      <td>-37.457</td>\n",
       "      <td>145.526</td>\n",
       "    </tr>\n",
       "  </tbody>\n",
       "</table>\n",
       "</div>"
      ],
      "text/plain": [
       "         Rooms  Bathroom  Landsize  Lattitude  Longtitude\n",
       "count 6196.000  6196.000  6196.000   6196.000    6196.000\n",
       "mean     2.931     1.576   471.007    -37.808     144.990\n",
       "std      0.971     0.711   897.450      0.076       0.099\n",
       "min      1.000     1.000     0.000    -38.165     144.542\n",
       "25%      2.000     1.000   152.000    -37.855     144.926\n",
       "50%      3.000     1.000   373.000    -37.802     144.996\n",
       "75%      4.000     2.000   628.000    -37.758     145.053\n",
       "max      8.000     8.000 37000.000    -37.457     145.526"
      ]
     },
     "execution_count": 11,
     "metadata": {},
     "output_type": "execute_result"
    }
   ],
   "source": [
    "melbourne_features = ['Rooms', 'Bathroom', 'Landsize', 'Lattitude', 'Longtitude']\n",
    "X = melbourne_data[melbourne_features]\n",
    "X.describe()"
   ]
  },
  {
   "cell_type": "markdown",
   "metadata": {},
   "source": [
    "### Data modeling"
   ]
  },
  {
   "cell_type": "code",
   "execution_count": 12,
   "metadata": {},
   "outputs": [
    {
     "data": {
      "text/plain": [
       "DecisionTreeRegressor(random_state=1)"
      ]
     },
     "execution_count": 12,
     "metadata": {},
     "output_type": "execute_result"
    }
   ],
   "source": [
    "from sklearn.tree import DecisionTreeRegressor\n",
    "\n",
    "# Define model. Specify a number for random_state to ensure same results each run\n",
    "melbourne_model = DecisionTreeRegressor(random_state=1)\n",
    "\n",
    "# Fit model\n",
    "melbourne_model.fit(X, y)"
   ]
  },
  {
   "cell_type": "code",
   "execution_count": 13,
   "metadata": {},
   "outputs": [
    {
     "name": "stdout",
     "output_type": "stream",
     "text": [
      "Making predictions for the following 5 houses:\n",
      "   Rooms  Bathroom  Landsize  Lattitude  Longtitude\n",
      "1      2     1.000   156.000    -37.808     144.993\n",
      "2      3     2.000   134.000    -37.809     144.994\n",
      "4      4     1.000   120.000    -37.807     144.994\n",
      "6      3     2.000   245.000    -37.802     144.999\n",
      "7      2     1.000   256.000    -37.806     144.995\n",
      "\n",
      "The predictions are\n",
      "[1035000. 1465000. 1600000. 1876000. 1636000.]\n"
     ]
    }
   ],
   "source": [
    "print(\"Making predictions for the following 5 houses:\")\n",
    "print(X.head())\n",
    "print(\"\")\n",
    "print(\"The predictions are\")\n",
    "print(melbourne_model.predict(X.head()))"
   ]
  },
  {
   "cell_type": "markdown",
   "metadata": {},
   "source": [
    "## Simple Evaluation"
   ]
  },
  {
   "cell_type": "code",
   "execution_count": 15,
   "metadata": {},
   "outputs": [
    {
     "data": {
      "text/plain": [
       "1115.7467183128902"
      ]
     },
     "execution_count": 15,
     "metadata": {},
     "output_type": "execute_result"
    }
   ],
   "source": [
    "from sklearn.metrics import mean_absolute_error\n",
    "\n",
    "predicted_home_prices = melbourne_model.predict(X)\n",
    "mean_absolute_error(y, predicted_home_prices)"
   ]
  }
 ],
 "metadata": {
  "kernelspec": {
   "display_name": "Python 3",
   "language": "python",
   "name": "python3"
  },
  "language_info": {
   "codemirror_mode": {
    "name": "ipython",
    "version": 3
   },
   "file_extension": ".py",
   "mimetype": "text/x-python",
   "name": "python",
   "nbconvert_exporter": "python",
   "pygments_lexer": "ipython3",
   "version": "3.8.5"
  }
 },
 "nbformat": 4,
 "nbformat_minor": 4
}
